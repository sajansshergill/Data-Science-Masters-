{
 "cells": [
  {
   "cell_type": "code",
   "execution_count": 2,
   "metadata": {
    "id": "vXscPRKDvIF_"
   },
   "outputs": [],
   "source": [
    "from sklearn.neighbors import KNeighborsClassifier\n",
    "import numpy as np\n",
    "R = [[1, 2], [3, 3], [5, 4], [6, 4], [2, 1], [7, 2], [6, 1]]\n",
    "T = [0, 0, 0, 0, 1, 1, 1]\n",
    "class_name = [\"a\", \"b\"]\n",
    "q = [3, 1]"
   ]
  },
  {
   "cell_type": "markdown",
   "metadata": {
    "id": "vnhfhWtqvqh2"
   },
   "source": [
    "a) What does the nearest neighbor classifier classifies a query instance (3, 1) if Euclidean\n",
    "L₂ distance is used"
   ]
  },
  {
   "cell_type": "code",
   "execution_count": 4,
   "metadata": {
    "colab": {
     "base_uri": "https://localhost:8080/"
    },
    "id": "4EoAEq50vi9_",
    "outputId": "f869d12f-b834-48e5-df04-ce52c10c2ccc"
   },
   "outputs": [
    {
     "name": "stdout",
     "output_type": "stream",
     "text": [
      "1\n",
      "[1]\n"
     ]
    }
   ],
   "source": [
    "def Minkowski(x, y, p):\n",
    "  return np.sum(abs(x - y)**p)**(1/p)\n",
    "def NNC(R, T, q, p):\n",
    "  D = []\n",
    "  for ri in R:\n",
    "    D.append(Minkowski(np.array(ri), np.array(q), p))\n",
    "  return T[np.argmin(D)]\n",
    "print(NNC(R, T, q, 2))\n",
    "# print(class_name[NNC(R, T, q, 2)])\n",
    "# You may call the following, but we shall use the above for simplicity’s sake.\n",
    "# print(class_name[NNC(R, T, q, 2)])\n",
    "# or using sklearn\n",
    "NNC = KNeighborsClassifier(n_neighbors=1)\n",
    "NNC.fit(R,T)\n",
    "print(NNC.predict([q]))"
   ]
  },
  {
   "cell_type": "markdown",
   "metadata": {
    "id": "wJ3xsc9NxK28"
   },
   "source": [
    "b) What does the (k = 3)-NN algorithm classifies a query instance (3, 1) if Euclidean L₂ distance is used"
   ]
  },
  {
   "cell_type": "code",
   "execution_count": 9,
   "metadata": {
    "colab": {
     "base_uri": "https://localhost:8080/"
    },
    "id": "ck8Lk5PmwQSt",
    "outputId": "dd7b91e5-4706-4e07-b5db-654f8a7c60b5"
   },
   "outputs": [
    {
     "name": "stdout",
     "output_type": "stream",
     "text": [
      "0\n"
     ]
    }
   ],
   "source": [
    "def k_NNC(R, T, q, k, m):\n",
    "  nc = max(T) + 1\n",
    "  D = []\n",
    "  for ri in R:\n",
    "    D.append(Minkowski(np.array(ri), np.array(q), m))\n",
    "  E = [i[0] for i in sorted(enumerate(D), key=lambda x:x[1])]\n",
    "  Nidx = E[:k]\n",
    "  Vn = [0] *nc\n",
    "  for ni in Nidx:\n",
    "    Vn[T[ni]] += 1\n",
    "  return np.argmax(Vn)\n",
    "print(k_NNC(R, T, q, 3, 2))\n"
   ]
  },
  {
   "cell_type": "markdown",
   "metadata": {},
   "source": [
    "using sklearn:-"
   ]
  },
  {
   "cell_type": "code",
   "execution_count": 11,
   "metadata": {
    "colab": {
     "base_uri": "https://localhost:8080/"
    },
    "id": "Xa6tY_Ykxbq7",
    "outputId": "2da49c61-f9d7-4732-8959-45bcd2358776"
   },
   "outputs": [
    {
     "name": "stdout",
     "output_type": "stream",
     "text": [
      "[0]\n"
     ]
    }
   ],
   "source": [
    "k3NNC = KNeighborsClassifier(n_neighbors=3)\n",
    "k3NNC.fit(R,T)\n",
    "print(k3NNC.predict([q]))"
   ]
  },
  {
   "cell_type": "markdown",
   "metadata": {
    "id": "o4g537Ubxkls"
   },
   "source": [
    "c) What does the (k = 5)-NN algorithm classifies a query instance (3, 1) if Euclidean L₂ distance is used"
   ]
  },
  {
   "cell_type": "code",
   "execution_count": 10,
   "metadata": {
    "colab": {
     "base_uri": "https://localhost:8080/"
    },
    "id": "bUAaFh-sxgf9",
    "outputId": "2030ee4e-3b04-4ff6-87c2-73a7c3fb36f9"
   },
   "outputs": [
    {
     "name": "stdout",
     "output_type": "stream",
     "text": [
      "0\n"
     ]
    }
   ],
   "source": [
    "print(k_NNC(R, T, q, 5, 2))"
   ]
  },
  {
   "cell_type": "markdown",
   "metadata": {},
   "source": [
    "using sklearn:-"
   ]
  },
  {
   "cell_type": "code",
   "execution_count": 12,
   "metadata": {
    "colab": {
     "base_uri": "https://localhost:8080/"
    },
    "id": "r7fqdd79xpE2",
    "outputId": "9ad0ba6d-00ba-45d2-fc58-430ec9f2178f"
   },
   "outputs": [
    {
     "name": "stdout",
     "output_type": "stream",
     "text": [
      "[0]\n"
     ]
    }
   ],
   "source": [
    "k5NNC = KNeighborsClassifier(n_neighbors=5)\n",
    "k5NNC.fit(R,T)\n",
    "print(k5NNC.predict([q]))"
   ]
  },
  {
   "cell_type": "markdown",
   "metadata": {
    "id": "qK4x74kBxzip"
   },
   "source": [
    "d) What does the (s = 1) distance weighted (k = 5)-NN algorithm classifies a query instance (3, 1) if Euclidean L₂ distance is used"
   ]
  },
  {
   "cell_type": "code",
   "execution_count": 14,
   "metadata": {
    "colab": {
     "base_uri": "https://localhost:8080/"
    },
    "id": "SXBQ0G8Axv6O",
    "outputId": "b4df8295-ff68-44cb-f68d-dfbffc740659"
   },
   "outputs": [
    {
     "name": "stdout",
     "output_type": "stream",
     "text": [
      "1\n",
      "[1]\n"
     ]
    }
   ],
   "source": [
    "\n",
    "def dwk_NNC(R, T, q, k, p, s):\n",
    "  nc = max(T) + 1\n",
    "  D = []\n",
    "  for ri in R:\n",
    "    D.append(Minkowski(np.array(ri), np.array(q), p))\n",
    "  E = [i[0] for i in sorted(enumerate(D), key=lambda x:x[1])]\n",
    "  Nidx = E[:k]\n",
    "  Vn = [0] *nc\n",
    "  for ni in Nidx:\n",
    "    Vn[T[ni]] += 1/D[ni]**s\n",
    "  return np.argmax(Vn)\n",
    "print(dwk_NNC(R, T, q, 5, 2, 1))\n",
    "# or using sklearn\n",
    "wk5NNC = KNeighborsClassifier(n_neighbors=5, weights='distance')\n",
    "wk5NNC.fit(R,T)\n",
    "print(wk5NNC.predict([q]))"
   ]
  },
  {
   "cell_type": "markdown",
   "metadata": {},
   "source": [
    "using sklearn:-"
   ]
  },
  {
   "cell_type": "code",
   "execution_count": 15,
   "metadata": {
    "colab": {
     "base_uri": "https://localhost:8080/"
    },
    "id": "RjddBpZbyL9T",
    "outputId": "36b29820-ead8-425a-ccca-93577e48cbce"
   },
   "outputs": [
    {
     "name": "stdout",
     "output_type": "stream",
     "text": [
      "[1]\n"
     ]
    }
   ],
   "source": [
    "wk5NNC = KNeighborsClassifier(n_neighbors=5, weights='distance')\n",
    "wk5NNC.fit(R,T)\n",
    "print(wk5NNC.predict([q]))"
   ]
  },
  {
   "cell_type": "markdown",
   "metadata": {
    "id": "zAwP1MZdy6JG"
   },
   "source": [
    "e) What does the (s = 2) distance weighted (k = 5)-NN algorithm classifies a query\n",
    "instance (3, 1) if Euclidean L₂ distance is used"
   ]
  },
  {
   "cell_type": "code",
   "execution_count": 18,
   "metadata": {
    "colab": {
     "base_uri": "https://localhost:8080/"
    },
    "id": "oEsdakwYy1Nf",
    "outputId": "e1c9d53d-858a-4952-efd1-7469b6999824"
   },
   "outputs": [
    {
     "name": "stdout",
     "output_type": "stream",
     "text": [
      "1\n"
     ]
    }
   ],
   "source": [
    "print(dwk_NNC(R, T, q, 5, 2, 2))"
   ]
  },
  {
   "cell_type": "markdown",
   "metadata": {
    "id": "P0KrWSGD0K2y"
   },
   "source": [
    "f) hat does the (α = 0.2) geometric series weighted (k = 5) neighbor classifier classifies\n",
    "a query instance (3, 1) if Euclidean L₂ distance is used"
   ]
  },
  {
   "cell_type": "code",
   "execution_count": 21,
   "metadata": {
    "colab": {
     "base_uri": "https://localhost:8080/"
    },
    "id": "PhR-Dcray7sI",
    "outputId": "42e20009-a944-445b-b349-035d75c6a350"
   },
   "outputs": [
    {
     "name": "stdout",
     "output_type": "stream",
     "text": [
      "0\n"
     ]
    }
   ],
   "source": [
    "def wk_NNC(R, T, q, k, p, W):\n",
    "  nc = max(T) + 1\n",
    "  D = []\n",
    "  for ri in R:\n",
    "    # Use p instead of m as the Minkowski distance parameter\n",
    "    D.append(Minkowski(np.array(ri), np.array(q), p))\n",
    "  E = [i[0] for i in sorted(enumerate(D), key=lambda x:x[1])]\n",
    "  Vn = [0] *nc\n",
    "  for i in range(k):\n",
    "    Vn[T[E[i]]] += W[i]\n",
    "  return np.argmax(Vn)\n",
    "W = [0.2,0.16,0.13,0.1,0.08]\n",
    "print(wk_NNC(R, T, q, 5, 2, W))"
   ]
  },
  {
   "cell_type": "markdown",
   "metadata": {
    "id": "AVjw8k5O0Nyu"
   },
   "source": [
    "g) What does the linear rank weighted (k = 5) neighbor classifier (lan) classifies a query\n",
    "instance (3, 1) if Euclidean L₂ distance is used"
   ]
  },
  {
   "cell_type": "code",
   "execution_count": 21,
   "metadata": {
    "colab": {
     "base_uri": "https://localhost:8080/"
    },
    "id": "vc1XAlp8zT1f",
    "outputId": "e3db1e29-18de-43dc-a561-8b9f53768551"
   },
   "outputs": [
    {
     "name": "stdout",
     "output_type": "stream",
     "text": [
      "0\n"
     ]
    }
   ],
   "source": [
    "\n",
    "# (k = 5)-NN classifier classifies it as a.\n",
    "W = [6,5,4,3,2]\n",
    "print(wk_NNC(R, T, q, 5, 2, W))"
   ]
  },
  {
   "cell_type": "markdown",
   "metadata": {
    "id": "5XpqNo0z0ZHs"
   },
   "source": [
    "h) What does the (k = 3)-NN algorithm classifies a query instance (3, 1) if Manhattan\n",
    "L₁ distance is used."
   ]
  },
  {
   "cell_type": "code",
   "execution_count": 25,
   "metadata": {
    "colab": {
     "base_uri": "https://localhost:8080/"
    },
    "id": "axFW1St60Xw-",
    "outputId": "06d3fdde-dcb6-438d-feab-7ce0e7a81ab5"
   },
   "outputs": [
    {
     "name": "stdout",
     "output_type": "stream",
     "text": [
      "0\n"
     ]
    }
   ],
   "source": [
    "print(k_NNC(R, T, q, 3, 1))"
   ]
  },
  {
   "cell_type": "markdown",
   "metadata": {},
   "source": [
    "or using sklearn:-"
   ]
  },
  {
   "cell_type": "code",
   "execution_count": 24,
   "metadata": {
    "colab": {
     "base_uri": "https://localhost:8080/"
    },
    "id": "3Btw3JEJ0eE9",
    "outputId": "49bc2acb-0a44-40ae-bd88-dc3ccfe95f2b"
   },
   "outputs": [
    {
     "name": "stdout",
     "output_type": "stream",
     "text": [
      "[0]\n"
     ]
    }
   ],
   "source": [
    "k3NNCL1 = KNeighborsClassifier(n_neighbors=3, p = 1)\n",
    "k3NNCL1.fit(R,T)\n",
    "print(k3NNCL1.predict([q]))"
   ]
  },
  {
   "cell_type": "markdown",
   "metadata": {
    "id": "1MZ-ICul0kOJ"
   },
   "source": [
    "i) What does the (k = 3)-NN algorithm classifies a query instance (3, 1) if Minkowski\n",
    "(p = 3), L₃ distance is used."
   ]
  },
  {
   "cell_type": "code",
   "execution_count": 29,
   "metadata": {
    "colab": {
     "base_uri": "https://localhost:8080/"
    },
    "id": "g4NZ4d7b0hT-",
    "outputId": "0d250860-2ef4-4498-c3fa-4ecfa5685ad0"
   },
   "outputs": [
    {
     "name": "stdout",
     "output_type": "stream",
     "text": [
      "0\n"
     ]
    }
   ],
   "source": [
    "print(k_NNC(R, T, q, 3, 3))"
   ]
  },
  {
   "cell_type": "markdown",
   "metadata": {},
   "source": [
    "using sklearn:-"
   ]
  },
  {
   "cell_type": "code",
   "execution_count": 27,
   "metadata": {
    "colab": {
     "base_uri": "https://localhost:8080/"
    },
    "id": "r21iklEL0opu",
    "outputId": "7e932f1d-8422-4f63-dd2a-10f7a21df112"
   },
   "outputs": [
    {
     "name": "stdout",
     "output_type": "stream",
     "text": [
      "[0]\n"
     ]
    }
   ],
   "source": [
    "k3NNCL3 = KNeighborsClassifier(n_neighbors=3, p = 3)\n",
    "k3NNCL3.fit(R,T)\n",
    "print(k3NNCL3.predict([q]))"
   ]
  },
  {
   "cell_type": "markdown",
   "metadata": {
    "id": "RH153zaU0yYq"
   },
   "source": [
    "j) What does the (k = 3)-NN algorithm classifies a query instance (3, 1) if Minkowski\n",
    "(p = 0.5), L0.5 distance is used"
   ]
  },
  {
   "cell_type": "code",
   "execution_count": 28,
   "metadata": {
    "colab": {
     "base_uri": "https://localhost:8080/"
    },
    "id": "sn8c9Rct0v4i",
    "outputId": "1c786ac4-4af8-4abc-a8ee-96d6d4637747"
   },
   "outputs": [
    {
     "name": "stdout",
     "output_type": "stream",
     "text": [
      "1\n"
     ]
    }
   ],
   "source": [
    "print(k_NNC(R, T, q, 3, 0.5))"
   ]
  },
  {
   "cell_type": "code",
   "execution_count": null,
   "metadata": {
    "id": "Siy9Ys7A00rj"
   },
   "outputs": [],
   "source": []
  }
 ],
 "metadata": {
  "colab": {
   "provenance": []
  },
  "kernelspec": {
   "display_name": "Python [conda env:venv]",
   "language": "python",
   "name": "conda-env-venv-py"
  },
  "language_info": {
   "codemirror_mode": {
    "name": "ipython",
    "version": 3
   },
   "file_extension": ".py",
   "mimetype": "text/x-python",
   "name": "python",
   "nbconvert_exporter": "python",
   "pygments_lexer": "ipython3",
   "version": "3.9.21"
  }
 },
 "nbformat": 4,
 "nbformat_minor": 4
}
